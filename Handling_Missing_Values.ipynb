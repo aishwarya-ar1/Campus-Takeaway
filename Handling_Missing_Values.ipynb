{
  "nbformat": 4,
  "nbformat_minor": 0,
  "metadata": {
    "colab": {
      "name": "Handling-Missing-Values.ipynb",
      "provenance": [],
      "collapsed_sections": [],
      "authorship_tag": "ABX9TyMwuACyiErXoAXBgxFQorfP",
      "include_colab_link": true
    },
    "kernelspec": {
      "name": "python3",
      "display_name": "Python 3"
    },
    "language_info": {
      "name": "python"
    }
  },
  "cells": [
    {
      "cell_type": "markdown",
      "metadata": {
        "id": "view-in-github",
        "colab_type": "text"
      },
      "source": [
        "<a href=\"https://colab.research.google.com/github/aishwarya-ar1/Campus-Takeaway/blob/main/Handling_Missing_Values.ipynb\" target=\"_parent\"><img src=\"https://colab.research.google.com/assets/colab-badge.svg\" alt=\"Open In Colab\"/></a>"
      ]
    },
    {
      "cell_type": "code",
      "metadata": {
        "id": "uebE7o8K9I4Z"
      },
      "source": [
        "import os"
      ],
      "execution_count": null,
      "outputs": []
    },
    {
      "cell_type": "code",
      "metadata": {
        "id": "_anQ1vXx9LjP"
      },
      "source": [
        "import pandas as pd"
      ],
      "execution_count": null,
      "outputs": []
    },
    {
      "cell_type": "markdown",
      "metadata": {
        "id": "UJ2zrxU_9p22"
      },
      "source": [
        "To read the CSV file and print it "
      ]
    },
    {
      "cell_type": "code",
      "metadata": {
        "colab": {
          "base_uri": "https://localhost:8080/"
        },
        "id": "wcwq59nb9Ort",
        "outputId": "d70e4e8b-a0b5-4bde-b4fd-99898158ec74"
      },
      "source": [
        "data=pd.read_csv(\"classgrades.csv\", index_col=0, na_values=[\"??\",\"????\"])\n",
        "print(data)"
      ],
      "execution_count": null,
      "outputs": [
        {
          "output_type": "stream",
          "text": [
            "      Prefix  Assignment  Tutorial  Midterm  TakeHome  Final\n",
            "S.no                                                        \n",
            "1          5       57.14     34.09    64.38     51.48  52.50\n",
            "2          8       95.05    105.49    67.50     99.07  68.33\n",
            "3          8       83.70     83.17    30.00     63.15  48.89\n",
            "4          7       81.22     96.06    49.38    105.93  80.56\n",
            "5          8       91.32     93.64    95.00    107.41  73.89\n",
            "...      ...         ...       ...      ...       ...    ...\n",
            "95         8       96.73    103.71    45.00     93.52  61.94\n",
            "96         7       85.34     80.54    41.25     93.70  39.72\n",
            "97         8       89.94    102.77    87.50     90.74  87.78\n",
            "98         7       95.60     76.13    66.25     99.81  85.56\n",
            "99         8       63.40     97.37    73.12     72.78  77.22\n",
            "\n",
            "[99 rows x 6 columns]\n"
          ],
          "name": "stdout"
        }
      ]
    },
    {
      "cell_type": "markdown",
      "metadata": {
        "id": "u9F7FN70-91f"
      },
      "source": [
        "To make copies of the data "
      ]
    },
    {
      "cell_type": "code",
      "metadata": {
        "id": "dmTihPVW9xKF"
      },
      "source": [
        "\n",
        "data_copy2=data.copy()"
      ],
      "execution_count": null,
      "outputs": []
    },
    {
      "cell_type": "markdown",
      "metadata": {
        "id": "JY0DFjrS-8nP"
      },
      "source": [
        "To identify missing values in the data"
      ]
    },
    {
      "cell_type": "code",
      "metadata": {
        "colab": {
          "base_uri": "https://localhost:8080/"
        },
        "id": "zqGKYfbo_DhQ",
        "outputId": "e76d98b5-d8e8-48bf-a3e1-705d79ec88be"
      },
      "source": [
        "data_copy2.isnull().sum()"
      ],
      "execution_count": null,
      "outputs": [
        {
          "output_type": "execute_result",
          "data": {
            "text/plain": [
              "Prefix        0\n",
              "Assignment    0\n",
              "Tutorial      0\n",
              "Midterm       0\n",
              "TakeHome      1\n",
              "Final         3\n",
              "dtype: int64"
            ]
          },
          "metadata": {
            "tags": []
          },
          "execution_count": 31
        }
      ]
    },
    {
      "cell_type": "markdown",
      "metadata": {
        "id": "Zm9ooTmwAAMT"
      },
      "source": [
        "Rows and columns of missing values are displayed\n"
      ]
    },
    {
      "cell_type": "code",
      "metadata": {
        "colab": {
          "base_uri": "https://localhost:8080/"
        },
        "id": "f2bhuJQJ_hJs",
        "outputId": "baa2a0f6-88c3-4ed0-b296-fc1231b04029"
      },
      "source": [
        "missing=data_copy2[data_copy2.isnull().any(axis=1)]\n",
        "print(missing)"
      ],
      "execution_count": null,
      "outputs": [
        {
          "output_type": "stream",
          "text": [
            "      Prefix  Assignment  Tutorial  Midterm  TakeHome  Final\n",
            "S.no                                                        \n",
            "8          7       72.85     86.85    60.00       NaN  56.11\n",
            "21         8       63.40     86.21    63.12     72.78    NaN\n",
            "39         6       90.74     89.64    61.25     90.00    NaN\n",
            "61         8       71.79    102.87    41.88     24.77    NaN\n"
          ],
          "name": "stdout"
        }
      ]
    },
    {
      "cell_type": "markdown",
      "metadata": {
        "id": "9WQOCtB4ANFC"
      },
      "source": [
        "Approches followed to fill in the values - (a) Mean, Median (b) Maximum count category"
      ]
    },
    {
      "cell_type": "markdown",
      "metadata": {
        "id": "dlA2WwqMA2Xh"
      },
      "source": [
        "Here, we use DataFrame.describe() to derive the descriptive statistics that summarize central tendency, dispersion, and shape of a dataset's distribution excluding NaN values."
      ]
    },
    {
      "cell_type": "code",
      "metadata": {
        "colab": {
          "base_uri": "https://localhost:8080/",
          "height": 297
        },
        "id": "SNoZKnNjAbaF",
        "outputId": "f657c692-3b24-42db-9291-58ca53878d37"
      },
      "source": [
        "data_copy2.describe()"
      ],
      "execution_count": null,
      "outputs": [
        {
          "output_type": "execute_result",
          "data": {
            "text/html": [
              "<div>\n",
              "<style scoped>\n",
              "    .dataframe tbody tr th:only-of-type {\n",
              "        vertical-align: middle;\n",
              "    }\n",
              "\n",
              "    .dataframe tbody tr th {\n",
              "        vertical-align: top;\n",
              "    }\n",
              "\n",
              "    .dataframe thead th {\n",
              "        text-align: right;\n",
              "    }\n",
              "</style>\n",
              "<table border=\"1\" class=\"dataframe\">\n",
              "  <thead>\n",
              "    <tr style=\"text-align: right;\">\n",
              "      <th></th>\n",
              "      <th>Prefix</th>\n",
              "      <th>Assignment</th>\n",
              "      <th>Tutorial</th>\n",
              "      <th>Midterm</th>\n",
              "      <th>TakeHome</th>\n",
              "      <th>Final</th>\n",
              "    </tr>\n",
              "  </thead>\n",
              "  <tbody>\n",
              "    <tr>\n",
              "      <th>count</th>\n",
              "      <td>99.000000</td>\n",
              "      <td>99.000000</td>\n",
              "      <td>99.000000</td>\n",
              "      <td>99.000000</td>\n",
              "      <td>98.000000</td>\n",
              "      <td>96.000000</td>\n",
              "    </tr>\n",
              "    <tr>\n",
              "      <th>mean</th>\n",
              "      <td>7.313131</td>\n",
              "      <td>85.491717</td>\n",
              "      <td>89.731111</td>\n",
              "      <td>68.049495</td>\n",
              "      <td>80.828469</td>\n",
              "      <td>68.414375</td>\n",
              "    </tr>\n",
              "    <tr>\n",
              "      <th>std</th>\n",
              "      <td>0.932918</td>\n",
              "      <td>12.597694</td>\n",
              "      <td>15.071556</td>\n",
              "      <td>19.376074</td>\n",
              "      <td>23.808806</td>\n",
              "      <td>18.801087</td>\n",
              "    </tr>\n",
              "    <tr>\n",
              "      <th>min</th>\n",
              "      <td>4.000000</td>\n",
              "      <td>28.140000</td>\n",
              "      <td>34.090000</td>\n",
              "      <td>28.120000</td>\n",
              "      <td>16.910000</td>\n",
              "      <td>28.060000</td>\n",
              "    </tr>\n",
              "    <tr>\n",
              "      <th>25%</th>\n",
              "      <td>7.000000</td>\n",
              "      <td>80.875000</td>\n",
              "      <td>83.350000</td>\n",
              "      <td>52.810000</td>\n",
              "      <td>66.015000</td>\n",
              "      <td>53.122500</td>\n",
              "    </tr>\n",
              "    <tr>\n",
              "      <th>50%</th>\n",
              "      <td>8.000000</td>\n",
              "      <td>89.940000</td>\n",
              "      <td>93.100000</td>\n",
              "      <td>69.380000</td>\n",
              "      <td>87.960000</td>\n",
              "      <td>66.250000</td>\n",
              "    </tr>\n",
              "    <tr>\n",
              "      <th>75%</th>\n",
              "      <td>8.000000</td>\n",
              "      <td>95.000000</td>\n",
              "      <td>100.550000</td>\n",
              "      <td>82.810000</td>\n",
              "      <td>98.747500</td>\n",
              "      <td>84.167500</td>\n",
              "    </tr>\n",
              "    <tr>\n",
              "      <th>max</th>\n",
              "      <td>8.000000</td>\n",
              "      <td>100.830000</td>\n",
              "      <td>112.580000</td>\n",
              "      <td>110.000000</td>\n",
              "      <td>108.890000</td>\n",
              "      <td>108.890000</td>\n",
              "    </tr>\n",
              "  </tbody>\n",
              "</table>\n",
              "</div>"
            ],
            "text/plain": [
              "          Prefix  Assignment    Tutorial     Midterm    TakeHome       Final\n",
              "count  99.000000   99.000000   99.000000   99.000000   98.000000   96.000000\n",
              "mean    7.313131   85.491717   89.731111   68.049495   80.828469   68.414375\n",
              "std     0.932918   12.597694   15.071556   19.376074   23.808806   18.801087\n",
              "min     4.000000   28.140000   34.090000   28.120000   16.910000   28.060000\n",
              "25%     7.000000   80.875000   83.350000   52.810000   66.015000   53.122500\n",
              "50%     8.000000   89.940000   93.100000   69.380000   87.960000   66.250000\n",
              "75%     8.000000   95.000000  100.550000   82.810000   98.747500   84.167500\n",
              "max     8.000000  100.830000  112.580000  110.000000  108.890000  108.890000"
            ]
          },
          "metadata": {
            "tags": []
          },
          "execution_count": 33
        }
      ]
    },
    {
      "cell_type": "markdown",
      "metadata": {
        "id": "XOdEQw_nB0oR"
      },
      "source": [
        "Imputing the missing value of 'TakeHome' variable - MEDIAN"
      ]
    },
    {
      "cell_type": "code",
      "metadata": {
        "colab": {
          "base_uri": "https://localhost:8080/"
        },
        "id": "myruJfccB_8z",
        "outputId": "d5dea33b-bdce-40b2-b296-7f4e0d5f1a94"
      },
      "source": [
        "data_copy2['TakeHome'].median()"
      ],
      "execution_count": null,
      "outputs": [
        {
          "output_type": "execute_result",
          "data": {
            "text/plain": [
              "87.96"
            ]
          },
          "metadata": {
            "tags": []
          },
          "execution_count": 34
        }
      ]
    },
    {
      "cell_type": "markdown",
      "metadata": {
        "id": "JhSuFd_YCOBW"
      },
      "source": [
        "Here, we fill in the missing values using the specified variable"
      ]
    },
    {
      "cell_type": "code",
      "metadata": {
        "id": "0phGhnzoCT6v"
      },
      "source": [
        "data_copy2['TakeHome'].fillna(data_copy2['TakeHome'].median(),inplace=True)\n"
      ],
      "execution_count": null,
      "outputs": []
    },
    {
      "cell_type": "markdown",
      "metadata": {
        "id": "HipGub11CwV7"
      },
      "source": [
        "Checking if the null value has been replaced with a value."
      ]
    },
    {
      "cell_type": "code",
      "metadata": {
        "colab": {
          "base_uri": "https://localhost:8080/"
        },
        "id": "MDiWwo2BC11_",
        "outputId": "56470676-a53f-4d28-c7ac-a6b34d8d3acd"
      },
      "source": [
        "missing=data_copy2[data_copy2.isnull().any(axis=1)]\n",
        "print(missing)"
      ],
      "execution_count": null,
      "outputs": [
        {
          "output_type": "stream",
          "text": [
            "      Prefix  Assignment  Tutorial  Midterm  TakeHome  Final\n",
            "S.no                                                        \n",
            "21         8       63.40     86.21    63.12     72.78    NaN\n",
            "39         6       90.74     89.64    61.25     90.00    NaN\n",
            "61         8       71.79    102.87    41.88     24.77    NaN\n"
          ],
          "name": "stdout"
        }
      ]
    },
    {
      "cell_type": "markdown",
      "metadata": {
        "id": "54H7inecC5hD"
      },
      "source": [
        "Now, we impute the missing value of the final score using mean"
      ]
    },
    {
      "cell_type": "code",
      "metadata": {
        "id": "WY2e1foKC-m-"
      },
      "source": [
        "data_copy2['Final'].fillna(data_copy2['Final'].mean(),inplace=True)"
      ],
      "execution_count": null,
      "outputs": []
    },
    {
      "cell_type": "markdown",
      "metadata": {
        "id": "lGcSDc1PDT2_"
      },
      "source": [
        "Checking if the null value has been replaced with a value."
      ]
    },
    {
      "cell_type": "code",
      "metadata": {
        "colab": {
          "base_uri": "https://localhost:8080/"
        },
        "id": "qQoSC9OHDUne",
        "outputId": "8b1e6412-0500-4cc8-fe11-cbadcda8c63f"
      },
      "source": [
        "missing=data_copy2[data_copy2.isnull().any(axis=1)]\n",
        "print(missing)"
      ],
      "execution_count": null,
      "outputs": [
        {
          "output_type": "stream",
          "text": [
            "Empty DataFrame\n",
            "Columns: [Prefix, Assignment, Tutorial, Midterm, TakeHome, Final]\n",
            "Index: []\n"
          ],
          "name": "stdout"
        }
      ]
    },
    {
      "cell_type": "markdown",
      "metadata": {
        "id": "qUvSEPhQDrZc"
      },
      "source": [
        "We dont use series.value_counts() as Final is not a categorical variable"
      ]
    },
    {
      "cell_type": "code",
      "metadata": {
        "colab": {
          "base_uri": "https://localhost:8080/"
        },
        "id": "V19cVbt7DYBk",
        "outputId": "1d132f1a-2a16-4df4-90ac-86576bf8e669"
      },
      "source": [
        "data_copy2.isnull().sum()"
      ],
      "execution_count": null,
      "outputs": [
        {
          "output_type": "execute_result",
          "data": {
            "text/plain": [
              "Prefix        0\n",
              "Assignment    0\n",
              "Tutorial      0\n",
              "Midterm       0\n",
              "TakeHome      0\n",
              "Final         0\n",
              "dtype: int64"
            ]
          },
          "metadata": {
            "tags": []
          },
          "execution_count": 39
        }
      ]
    }
  ]
}