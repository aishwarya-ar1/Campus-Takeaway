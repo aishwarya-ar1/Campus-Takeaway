{
  "nbformat": 4,
  "nbformat_minor": 0,
  "metadata": {
    "colab": {
      "name": "CLVP.ipynb",
      "provenance": [],
      "collapsed_sections": [],
      "include_colab_link": true
    },
    "kernelspec": {
      "name": "python3",
      "display_name": "Python 3"
    },
    "language_info": {
      "name": "python"
    }
  },
  "cells": [
    {
      "cell_type": "markdown",
      "metadata": {
        "id": "view-in-github",
        "colab_type": "text"
      },
      "source": [
        "<a href=\"https://colab.research.google.com/github/aishwarya-ar1/Campus-Takeaway/blob/main/CLVP.ipynb\" target=\"_parent\"><img src=\"https://colab.research.google.com/assets/colab-badge.svg\" alt=\"Open In Colab\"/></a>"
      ]
    },
    {
      "cell_type": "markdown",
      "metadata": {
        "id": "EsXouAWlclKx"
      },
      "source": [
        "Importring necessary libraries"
      ]
    },
    {
      "cell_type": "code",
      "metadata": {
        "id": "pkDU_qdKDmLT"
      },
      "source": [
        "#import modules\n",
        "import pandas as pd # for dataframes\n",
        "import matplotlib.pyplot as plt # for plotting graphs\n",
        "import seaborn as sns # for plotting graphs\n",
        "import datetime as dt\n",
        "import numpy as np"
      ],
      "execution_count": null,
      "outputs": []
    },
    {
      "cell_type": "markdown",
      "metadata": {
        "id": "6g6KC8VWcqxA"
      },
      "source": [
        "Loading the dataset"
      ]
    },
    {
      "cell_type": "code",
      "metadata": {
        "id": "6sA4c44kIFga"
      },
      "source": [
        "#Loading dataset\n",
        "data = pd.read_excel(\"/content/Online Retail.xlsx\")"
      ],
      "execution_count": null,
      "outputs": []
    },
    {
      "cell_type": "code",
      "metadata": {
        "colab": {
          "base_uri": "https://localhost:8080/",
          "height": 204
        },
        "id": "Ockbe6ewIJkJ",
        "outputId": "cf8ec784-fe3f-431a-d191-7ec633f66954"
      },
      "source": [
        "#Displaying dataset\n",
        "data.head()"
      ],
      "execution_count": null,
      "outputs": [
        {
          "output_type": "execute_result",
          "data": {
            "text/html": [
              "<div>\n",
              "<style scoped>\n",
              "    .dataframe tbody tr th:only-of-type {\n",
              "        vertical-align: middle;\n",
              "    }\n",
              "\n",
              "    .dataframe tbody tr th {\n",
              "        vertical-align: top;\n",
              "    }\n",
              "\n",
              "    .dataframe thead th {\n",
              "        text-align: right;\n",
              "    }\n",
              "</style>\n",
              "<table border=\"1\" class=\"dataframe\">\n",
              "  <thead>\n",
              "    <tr style=\"text-align: right;\">\n",
              "      <th></th>\n",
              "      <th>InvoiceNo</th>\n",
              "      <th>StockCode</th>\n",
              "      <th>Description</th>\n",
              "      <th>Quantity</th>\n",
              "      <th>InvoiceDate</th>\n",
              "      <th>UnitPrice</th>\n",
              "      <th>CustomerID</th>\n",
              "      <th>Country</th>\n",
              "    </tr>\n",
              "  </thead>\n",
              "  <tbody>\n",
              "    <tr>\n",
              "      <th>0</th>\n",
              "      <td>536365</td>\n",
              "      <td>85123A</td>\n",
              "      <td>WHITE HANGING HEART T-LIGHT HOLDER</td>\n",
              "      <td>6</td>\n",
              "      <td>2010-12-01 08:26:00</td>\n",
              "      <td>2.55</td>\n",
              "      <td>17850.0</td>\n",
              "      <td>United Kingdom</td>\n",
              "    </tr>\n",
              "    <tr>\n",
              "      <th>1</th>\n",
              "      <td>536365</td>\n",
              "      <td>71053</td>\n",
              "      <td>WHITE METAL LANTERN</td>\n",
              "      <td>6</td>\n",
              "      <td>2010-12-01 08:26:00</td>\n",
              "      <td>3.39</td>\n",
              "      <td>17850.0</td>\n",
              "      <td>United Kingdom</td>\n",
              "    </tr>\n",
              "    <tr>\n",
              "      <th>2</th>\n",
              "      <td>536365</td>\n",
              "      <td>84406B</td>\n",
              "      <td>CREAM CUPID HEARTS COAT HANGER</td>\n",
              "      <td>8</td>\n",
              "      <td>2010-12-01 08:26:00</td>\n",
              "      <td>2.75</td>\n",
              "      <td>17850.0</td>\n",
              "      <td>United Kingdom</td>\n",
              "    </tr>\n",
              "    <tr>\n",
              "      <th>3</th>\n",
              "      <td>536365</td>\n",
              "      <td>84029G</td>\n",
              "      <td>KNITTED UNION FLAG HOT WATER BOTTLE</td>\n",
              "      <td>6</td>\n",
              "      <td>2010-12-01 08:26:00</td>\n",
              "      <td>3.39</td>\n",
              "      <td>17850.0</td>\n",
              "      <td>United Kingdom</td>\n",
              "    </tr>\n",
              "    <tr>\n",
              "      <th>4</th>\n",
              "      <td>536365</td>\n",
              "      <td>84029E</td>\n",
              "      <td>RED WOOLLY HOTTIE WHITE HEART.</td>\n",
              "      <td>6</td>\n",
              "      <td>2010-12-01 08:26:00</td>\n",
              "      <td>3.39</td>\n",
              "      <td>17850.0</td>\n",
              "      <td>United Kingdom</td>\n",
              "    </tr>\n",
              "  </tbody>\n",
              "</table>\n",
              "</div>"
            ],
            "text/plain": [
              "  InvoiceNo StockCode  ... CustomerID         Country\n",
              "0    536365    85123A  ...    17850.0  United Kingdom\n",
              "1    536365     71053  ...    17850.0  United Kingdom\n",
              "2    536365    84406B  ...    17850.0  United Kingdom\n",
              "3    536365    84029G  ...    17850.0  United Kingdom\n",
              "4    536365    84029E  ...    17850.0  United Kingdom\n",
              "\n",
              "[5 rows x 8 columns]"
            ]
          },
          "metadata": {
            "tags": []
          },
          "execution_count": 19
        }
      ]
    },
    {
      "cell_type": "code",
      "metadata": {
        "id": "9CQt6n62INzV"
      },
      "source": [
        "#Removing duplicates\n",
        "filtered_data=data[['Country','CustomerID']].drop_duplicates()"
      ],
      "execution_count": null,
      "outputs": []
    },
    {
      "cell_type": "code",
      "metadata": {
        "colab": {
          "base_uri": "https://localhost:8080/",
          "height": 353
        },
        "id": "FtIRD4KTISUU",
        "outputId": "543e1f3f-4864-46f3-b4f7-3e6cee733b07"
      },
      "source": [
        "#Data Insights\n",
        "#Top ten country's customer\n",
        "filtered_data.Country.value_counts()[:10].plot(kind='bar')"
      ],
      "execution_count": null,
      "outputs": [
        {
          "output_type": "execute_result",
          "data": {
            "text/plain": [
              "<matplotlib.axes._subplots.AxesSubplot at 0x7f7f7f383f90>"
            ]
          },
          "metadata": {
            "tags": []
          },
          "execution_count": 21
        },
        {
          "output_type": "display_data",
          "data": {
            "image/png": "[encoded data removed]",
            "text/plain": [
              "<Figure size 432x288 with 1 Axes>"
            ]
          },
          "metadata": {
            "tags": [],
            "needs_background": "light"
          }
        }
      ]
    },
    {
      "cell_type": "code",
      "metadata": {
        "id": "1gAjxxmIIXLX"
      },
      "source": [
        ""
      ],
      "execution_count": null,
      "outputs": []
    },
    {
      "cell_type": "code",
      "metadata": {
        "colab": {
          "base_uri": "https://localhost:8080/"
        },
        "id": "mVPUs5tbIZ92",
        "outputId": "e4c7cd51-537f-466b-ac6b-1ef9b7a198d7"
      },
      "source": [
        "#Filtering data for the UK\n",
        "uk_data=data[data.Country=='United Kingdom']\n",
        "uk_data.info()"
      ],
      "execution_count": null,
      "outputs": [
        {
          "output_type": "stream",
          "text": [
            "<class 'pandas.core.frame.DataFrame'>\n",
            "Int64Index: 495478 entries, 0 to 541893\n",
            "Data columns (total 8 columns):\n",
            " #   Column       Non-Null Count   Dtype         \n",
            "---  ------       --------------   -----         \n",
            " 0   InvoiceNo    495478 non-null  object        \n",
            " 1   StockCode    495478 non-null  object        \n",
            " 2   Description  494024 non-null  object        \n",
            " 3   Quantity     495478 non-null  int64         \n",
            " 4   InvoiceDate  495478 non-null  datetime64[ns]\n",
            " 5   UnitPrice    495478 non-null  float64       \n",
            " 6   CustomerID   361878 non-null  float64       \n",
            " 7   Country      495478 non-null  object        \n",
            "dtypes: datetime64[ns](1), float64(2), int64(1), object(4)\n",
            "memory usage: 34.0+ MB\n"
          ],
          "name": "stdout"
        }
      ]
    },
    {
      "cell_type": "code",
      "metadata": {
        "id": "ju-_uJSgIehb"
      },
      "source": [
        ""
      ],
      "execution_count": null,
      "outputs": []
    },
    {
      "cell_type": "code",
      "metadata": {
        "colab": {
          "base_uri": "https://localhost:8080/",
          "height": 297
        },
        "id": "qEOE11OSIm9g",
        "outputId": "01a332c0-8b84-432d-91e3-8eb2cfd106bc"
      },
      "source": [
        "#Describe\n",
        "uk_data.describe()"
      ],
      "execution_count": null,
      "outputs": [
        {
          "output_type": "execute_result",
          "data": {
            "text/html": [
              "<div>\n",
              "<style scoped>\n",
              "    .dataframe tbody tr th:only-of-type {\n",
              "        vertical-align: middle;\n",
              "    }\n",
              "\n",
              "    .dataframe tbody tr th {\n",
              "        vertical-align: top;\n",
              "    }\n",
              "\n",
              "    .dataframe thead th {\n",
              "        text-align: right;\n",
              "    }\n",
              "</style>\n",
              "<table border=\"1\" class=\"dataframe\">\n",
              "  <thead>\n",
              "    <tr style=\"text-align: right;\">\n",
              "      <th></th>\n",
              "      <th>Quantity</th>\n",
              "      <th>UnitPrice</th>\n",
              "      <th>CustomerID</th>\n",
              "    </tr>\n",
              "  </thead>\n",
              "  <tbody>\n",
              "    <tr>\n",
              "      <th>count</th>\n",
              "      <td>495478.000000</td>\n",
              "      <td>495478.000000</td>\n",
              "      <td>361878.000000</td>\n",
              "    </tr>\n",
              "    <tr>\n",
              "      <th>mean</th>\n",
              "      <td>8.605486</td>\n",
              "      <td>4.532422</td>\n",
              "      <td>15547.871368</td>\n",
              "    </tr>\n",
              "    <tr>\n",
              "      <th>std</th>\n",
              "      <td>227.588756</td>\n",
              "      <td>99.315438</td>\n",
              "      <td>1594.402590</td>\n",
              "    </tr>\n",
              "    <tr>\n",
              "      <th>min</th>\n",
              "      <td>-80995.000000</td>\n",
              "      <td>-11062.060000</td>\n",
              "      <td>12346.000000</td>\n",
              "    </tr>\n",
              "    <tr>\n",
              "      <th>25%</th>\n",
              "      <td>1.000000</td>\n",
              "      <td>1.250000</td>\n",
              "      <td>14194.000000</td>\n",
              "    </tr>\n",
              "    <tr>\n",
              "      <th>50%</th>\n",
              "      <td>3.000000</td>\n",
              "      <td>2.100000</td>\n",
              "      <td>15514.000000</td>\n",
              "    </tr>\n",
              "    <tr>\n",
              "      <th>75%</th>\n",
              "      <td>10.000000</td>\n",
              "      <td>4.130000</td>\n",
              "      <td>16931.000000</td>\n",
              "    </tr>\n",
              "    <tr>\n",
              "      <th>max</th>\n",
              "      <td>80995.000000</td>\n",
              "      <td>38970.000000</td>\n",
              "      <td>18287.000000</td>\n",
              "    </tr>\n",
              "  </tbody>\n",
              "</table>\n",
              "</div>"
            ],
            "text/plain": [
              "            Quantity      UnitPrice     CustomerID\n",
              "count  495478.000000  495478.000000  361878.000000\n",
              "mean        8.605486       4.532422   15547.871368\n",
              "std       227.588756      99.315438    1594.402590\n",
              "min    -80995.000000  -11062.060000   12346.000000\n",
              "25%         1.000000       1.250000   14194.000000\n",
              "50%         3.000000       2.100000   15514.000000\n",
              "75%        10.000000       4.130000   16931.000000\n",
              "max     80995.000000   38970.000000   18287.000000"
            ]
          },
          "metadata": {
            "tags": []
          },
          "execution_count": 23
        }
      ]
    },
    {
      "cell_type": "code",
      "metadata": {
        "colab": {
          "base_uri": "https://localhost:8080/"
        },
        "id": "be2juZa4Iqeb",
        "outputId": "1938bc8e-234c-49d3-927e-866006dab4cf"
      },
      "source": [
        "#Filtering quantities greater than 0\n",
        "uk_data = uk_data[(uk_data['Quantity']>0)]\n",
        "uk_data.info()"
      ],
      "execution_count": null,
      "outputs": [
        {
          "output_type": "stream",
          "text": [
            "<class 'pandas.core.frame.DataFrame'>\n",
            "Int64Index: 486286 entries, 0 to 541893\n",
            "Data columns (total 8 columns):\n",
            " #   Column       Non-Null Count   Dtype         \n",
            "---  ------       --------------   -----         \n",
            " 0   InvoiceNo    486286 non-null  object        \n",
            " 1   StockCode    486286 non-null  object        \n",
            " 2   Description  485694 non-null  object        \n",
            " 3   Quantity     486286 non-null  int64         \n",
            " 4   InvoiceDate  486286 non-null  datetime64[ns]\n",
            " 5   UnitPrice    486286 non-null  float64       \n",
            " 6   CustomerID   354345 non-null  float64       \n",
            " 7   Country      486286 non-null  object        \n",
            "dtypes: datetime64[ns](1), float64(2), int64(1), object(4)\n",
            "memory usage: 33.4+ MB\n"
          ],
          "name": "stdout"
        }
      ]
    },
    {
      "cell_type": "code",
      "metadata": {
        "id": "pA1ThWBiJL85"
      },
      "source": [
        ""
      ],
      "execution_count": null,
      "outputs": []
    },
    {
      "cell_type": "code",
      "metadata": {
        "id": "fiEWw7pvJP-X"
      },
      "source": [
        "#Filtering columns\n",
        "uk_data_group=uk_data.groupby('CustomerID').agg({'InvoiceDate': lambda date: (date.max() - date.min()).days,\n",
        "                                        'InvoiceNo': lambda num: len(num),\n",
        "                                        'Quantity': lambda quant: quant.sum(),\n",
        "                                        'UnitPrice': lambda price: price.sum()})"
      ],
      "execution_count": null,
      "outputs": []
    },
    {
      "cell_type": "code",
      "metadata": {
        "colab": {
          "base_uri": "https://localhost:8080/",
          "height": 235
        },
        "id": "PeHEMVfCJXQu",
        "outputId": "457559a1-0518-44e7-f5b5-420d87293dd7"
      },
      "source": [
        "uk_data_group.head()"
      ],
      "execution_count": null,
      "outputs": [
        {
          "output_type": "execute_result",
          "data": {
            "text/html": [
              "<div>\n",
              "<style scoped>\n",
              "    .dataframe tbody tr th:only-of-type {\n",
              "        vertical-align: middle;\n",
              "    }\n",
              "\n",
              "    .dataframe tbody tr th {\n",
              "        vertical-align: top;\n",
              "    }\n",
              "\n",
              "    .dataframe thead th {\n",
              "        text-align: right;\n",
              "    }\n",
              "</style>\n",
              "<table border=\"1\" class=\"dataframe\">\n",
              "  <thead>\n",
              "    <tr style=\"text-align: right;\">\n",
              "      <th></th>\n",
              "      <th>InvoiceDate</th>\n",
              "      <th>InvoiceNo</th>\n",
              "      <th>Quantity</th>\n",
              "      <th>UnitPrice</th>\n",
              "    </tr>\n",
              "    <tr>\n",
              "      <th>CustomerID</th>\n",
              "      <th></th>\n",
              "      <th></th>\n",
              "      <th></th>\n",
              "      <th></th>\n",
              "    </tr>\n",
              "  </thead>\n",
              "  <tbody>\n",
              "    <tr>\n",
              "      <th>12346.0</th>\n",
              "      <td>0</td>\n",
              "      <td>1</td>\n",
              "      <td>74215</td>\n",
              "      <td>1.04</td>\n",
              "    </tr>\n",
              "    <tr>\n",
              "      <th>12747.0</th>\n",
              "      <td>366</td>\n",
              "      <td>103</td>\n",
              "      <td>1275</td>\n",
              "      <td>449.89</td>\n",
              "    </tr>\n",
              "    <tr>\n",
              "      <th>12748.0</th>\n",
              "      <td>372</td>\n",
              "      <td>4596</td>\n",
              "      <td>25748</td>\n",
              "      <td>12205.60</td>\n",
              "    </tr>\n",
              "    <tr>\n",
              "      <th>12749.0</th>\n",
              "      <td>209</td>\n",
              "      <td>199</td>\n",
              "      <td>1471</td>\n",
              "      <td>994.99</td>\n",
              "    </tr>\n",
              "    <tr>\n",
              "      <th>12820.0</th>\n",
              "      <td>323</td>\n",
              "      <td>59</td>\n",
              "      <td>722</td>\n",
              "      <td>112.38</td>\n",
              "    </tr>\n",
              "  </tbody>\n",
              "</table>\n",
              "</div>"
            ],
            "text/plain": [
              "            InvoiceDate  InvoiceNo  Quantity  UnitPrice\n",
              "CustomerID                                             \n",
              "12346.0               0          1     74215       1.04\n",
              "12747.0             366        103      1275     449.89\n",
              "12748.0             372       4596     25748   12205.60\n",
              "12749.0             209        199      1471     994.99\n",
              "12820.0             323         59       722     112.38"
            ]
          },
          "metadata": {
            "tags": []
          },
          "execution_count": 26
        }
      ]
    },
    {
      "cell_type": "code",
      "metadata": {
        "colab": {
          "base_uri": "https://localhost:8080/",
          "height": 235
        },
        "id": "sFWiFKV7JZDR",
        "outputId": "67a102e4-3b76-44ae-c39b-b543657bcbde"
      },
      "source": [
        "#Renaming the columns\n",
        "uk_data_group.columns=['num_days','num_transactions','num_units','spent_money']\n",
        "uk_data_group.head()"
      ],
      "execution_count": null,
      "outputs": [
        {
          "output_type": "execute_result",
          "data": {
            "text/html": [
              "<div>\n",
              "<style scoped>\n",
              "    .dataframe tbody tr th:only-of-type {\n",
              "        vertical-align: middle;\n",
              "    }\n",
              "\n",
              "    .dataframe tbody tr th {\n",
              "        vertical-align: top;\n",
              "    }\n",
              "\n",
              "    .dataframe thead th {\n",
              "        text-align: right;\n",
              "    }\n",
              "</style>\n",
              "<table border=\"1\" class=\"dataframe\">\n",
              "  <thead>\n",
              "    <tr style=\"text-align: right;\">\n",
              "      <th></th>\n",
              "      <th>num_days</th>\n",
              "      <th>num_transactions</th>\n",
              "      <th>num_units</th>\n",
              "      <th>spent_money</th>\n",
              "    </tr>\n",
              "    <tr>\n",
              "      <th>CustomerID</th>\n",
              "      <th></th>\n",
              "      <th></th>\n",
              "      <th></th>\n",
              "      <th></th>\n",
              "    </tr>\n",
              "  </thead>\n",
              "  <tbody>\n",
              "    <tr>\n",
              "      <th>12346.0</th>\n",
              "      <td>0</td>\n",
              "      <td>1</td>\n",
              "      <td>74215</td>\n",
              "      <td>1.04</td>\n",
              "    </tr>\n",
              "    <tr>\n",
              "      <th>12747.0</th>\n",
              "      <td>366</td>\n",
              "      <td>103</td>\n",
              "      <td>1275</td>\n",
              "      <td>449.89</td>\n",
              "    </tr>\n",
              "    <tr>\n",
              "      <th>12748.0</th>\n",
              "      <td>372</td>\n",
              "      <td>4596</td>\n",
              "      <td>25748</td>\n",
              "      <td>12205.60</td>\n",
              "    </tr>\n",
              "    <tr>\n",
              "      <th>12749.0</th>\n",
              "      <td>209</td>\n",
              "      <td>199</td>\n",
              "      <td>1471</td>\n",
              "      <td>994.99</td>\n",
              "    </tr>\n",
              "    <tr>\n",
              "      <th>12820.0</th>\n",
              "      <td>323</td>\n",
              "      <td>59</td>\n",
              "      <td>722</td>\n",
              "      <td>112.38</td>\n",
              "    </tr>\n",
              "  </tbody>\n",
              "</table>\n",
              "</div>"
            ],
            "text/plain": [
              "            num_days  num_transactions  num_units  spent_money\n",
              "CustomerID                                                    \n",
              "12346.0            0                 1      74215         1.04\n",
              "12747.0          366               103       1275       449.89\n",
              "12748.0          372              4596      25748     12205.60\n",
              "12749.0          209               199       1471       994.99\n",
              "12820.0          323                59        722       112.38"
            ]
          },
          "metadata": {
            "tags": []
          },
          "execution_count": 27
        }
      ]
    },
    {
      "cell_type": "code",
      "metadata": {
        "id": "X8oXrOxIWqPu"
      },
      "source": [
        ""
      ],
      "execution_count": null,
      "outputs": []
    },
    {
      "cell_type": "code",
      "metadata": {
        "id": "Vlv6xCYgJki-"
      },
      "source": [
        "# Average Order Value\n",
        "uk_data_group['avg_order_value']=uk_data_group['spent_money']/uk_data_group['num_transactions']"
      ],
      "execution_count": null,
      "outputs": []
    },
    {
      "cell_type": "code",
      "metadata": {
        "colab": {
          "base_uri": "https://localhost:8080/",
          "height": 235
        },
        "id": "1GgWSgn7JnTr",
        "outputId": "78b28709-4450-4266-825b-5231beb259a7"
      },
      "source": [
        "uk_data_group.head()"
      ],
      "execution_count": null,
      "outputs": [
        {
          "output_type": "execute_result",
          "data": {
            "text/html": [
              "<div>\n",
              "<style scoped>\n",
              "    .dataframe tbody tr th:only-of-type {\n",
              "        vertical-align: middle;\n",
              "    }\n",
              "\n",
              "    .dataframe tbody tr th {\n",
              "        vertical-align: top;\n",
              "    }\n",
              "\n",
              "    .dataframe thead th {\n",
              "        text-align: right;\n",
              "    }\n",
              "</style>\n",
              "<table border=\"1\" class=\"dataframe\">\n",
              "  <thead>\n",
              "    <tr style=\"text-align: right;\">\n",
              "      <th></th>\n",
              "      <th>num_days</th>\n",
              "      <th>num_transactions</th>\n",
              "      <th>num_units</th>\n",
              "      <th>spent_money</th>\n",
              "      <th>avg_order_value</th>\n",
              "    </tr>\n",
              "    <tr>\n",
              "      <th>CustomerID</th>\n",
              "      <th></th>\n",
              "      <th></th>\n",
              "      <th></th>\n",
              "      <th></th>\n",
              "      <th></th>\n",
              "    </tr>\n",
              "  </thead>\n",
              "  <tbody>\n",
              "    <tr>\n",
              "      <th>12346.0</th>\n",
              "      <td>0</td>\n",
              "      <td>1</td>\n",
              "      <td>74215</td>\n",
              "      <td>1.04</td>\n",
              "      <td>1.040000</td>\n",
              "    </tr>\n",
              "    <tr>\n",
              "      <th>12747.0</th>\n",
              "      <td>366</td>\n",
              "      <td>103</td>\n",
              "      <td>1275</td>\n",
              "      <td>449.89</td>\n",
              "      <td>4.367864</td>\n",
              "    </tr>\n",
              "    <tr>\n",
              "      <th>12748.0</th>\n",
              "      <td>372</td>\n",
              "      <td>4596</td>\n",
              "      <td>25748</td>\n",
              "      <td>12205.60</td>\n",
              "      <td>2.655701</td>\n",
              "    </tr>\n",
              "    <tr>\n",
              "      <th>12749.0</th>\n",
              "      <td>209</td>\n",
              "      <td>199</td>\n",
              "      <td>1471</td>\n",
              "      <td>994.99</td>\n",
              "      <td>4.999950</td>\n",
              "    </tr>\n",
              "    <tr>\n",
              "      <th>12820.0</th>\n",
              "      <td>323</td>\n",
              "      <td>59</td>\n",
              "      <td>722</td>\n",
              "      <td>112.38</td>\n",
              "      <td>1.904746</td>\n",
              "    </tr>\n",
              "  </tbody>\n",
              "</table>\n",
              "</div>"
            ],
            "text/plain": [
              "            num_days  num_transactions  num_units  spent_money  avg_order_value\n",
              "CustomerID                                                                     \n",
              "12346.0            0                 1      74215         1.04         1.040000\n",
              "12747.0          366               103       1275       449.89         4.367864\n",
              "12748.0          372              4596      25748     12205.60         2.655701\n",
              "12749.0          209               199       1471       994.99         4.999950\n",
              "12820.0          323                59        722       112.38         1.904746"
            ]
          },
          "metadata": {
            "tags": []
          },
          "execution_count": 32
        }
      ]
    },
    {
      "cell_type": "code",
      "metadata": {
        "id": "Prt5bo3jJpPH"
      },
      "source": [
        "#Purchase frequency calculation\n",
        "purchase_frequency=sum(uk_data_group['num_transactions'])/uk_data_group.shape[0]"
      ],
      "execution_count": null,
      "outputs": []
    },
    {
      "cell_type": "code",
      "metadata": {
        "id": "kNrH-GCdJu-4"
      },
      "source": [
        "# Repeat Rate\n",
        "repeat_rate=uk_data_group[uk_data_group.num_transactions > 1].shape[0]/uk_data_group.shape[0]"
      ],
      "execution_count": null,
      "outputs": []
    },
    {
      "cell_type": "code",
      "metadata": {
        "id": "X_2B8FZxXW4c"
      },
      "source": [
        "churn_rate=1-repeat_rate"
      ],
      "execution_count": null,
      "outputs": []
    },
    {
      "cell_type": "code",
      "metadata": {
        "colab": {
          "base_uri": "https://localhost:8080/"
        },
        "id": "Sx_KXl1gRPvH",
        "outputId": "41208f2c-8bcd-43f5-d2e3-203b12c6014e"
      },
      "source": [
        "purchase_frequency,repeat_rate,churn_rate"
      ],
      "execution_count": null,
      "outputs": [
        {
          "output_type": "execute_result",
          "data": {
            "text/plain": [
              "(90.37107880642694, 0.9818923743942872, 0.018107625605712774)"
            ]
          },
          "metadata": {
            "tags": []
          },
          "execution_count": 38
        }
      ]
    },
    {
      "cell_type": "code",
      "metadata": {
        "id": "-L2NeZ3WRxTq"
      },
      "source": [
        "# Profit Margin\n",
        "uk_data_group['profit_margin']=uk_data_group['spent_money']*0.05"
      ],
      "execution_count": null,
      "outputs": []
    },
    {
      "cell_type": "code",
      "metadata": {
        "colab": {
          "base_uri": "https://localhost:8080/",
          "height": 235
        },
        "id": "7UzIQt4_Rz-N",
        "outputId": "953ecf63-a289-4530-e43e-bf4de3082ba7"
      },
      "source": [
        "uk_data_group.head()"
      ],
      "execution_count": null,
      "outputs": [
        {
          "output_type": "execute_result",
          "data": {
            "text/html": [
              "<div>\n",
              "<style scoped>\n",
              "    .dataframe tbody tr th:only-of-type {\n",
              "        vertical-align: middle;\n",
              "    }\n",
              "\n",
              "    .dataframe tbody tr th {\n",
              "        vertical-align: top;\n",
              "    }\n",
              "\n",
              "    .dataframe thead th {\n",
              "        text-align: right;\n",
              "    }\n",
              "</style>\n",
              "<table border=\"1\" class=\"dataframe\">\n",
              "  <thead>\n",
              "    <tr style=\"text-align: right;\">\n",
              "      <th></th>\n",
              "      <th>num_days</th>\n",
              "      <th>num_transactions</th>\n",
              "      <th>num_units</th>\n",
              "      <th>spent_money</th>\n",
              "      <th>avg_order_value</th>\n",
              "      <th>profit_margin</th>\n",
              "    </tr>\n",
              "    <tr>\n",
              "      <th>CustomerID</th>\n",
              "      <th></th>\n",
              "      <th></th>\n",
              "      <th></th>\n",
              "      <th></th>\n",
              "      <th></th>\n",
              "      <th></th>\n",
              "    </tr>\n",
              "  </thead>\n",
              "  <tbody>\n",
              "    <tr>\n",
              "      <th>12346.0</th>\n",
              "      <td>0</td>\n",
              "      <td>1</td>\n",
              "      <td>74215</td>\n",
              "      <td>1.04</td>\n",
              "      <td>1.040000</td>\n",
              "      <td>0.0520</td>\n",
              "    </tr>\n",
              "    <tr>\n",
              "      <th>12747.0</th>\n",
              "      <td>366</td>\n",
              "      <td>103</td>\n",
              "      <td>1275</td>\n",
              "      <td>449.89</td>\n",
              "      <td>4.367864</td>\n",
              "      <td>22.4945</td>\n",
              "    </tr>\n",
              "    <tr>\n",
              "      <th>12748.0</th>\n",
              "      <td>372</td>\n",
              "      <td>4596</td>\n",
              "      <td>25748</td>\n",
              "      <td>12205.60</td>\n",
              "      <td>2.655701</td>\n",
              "      <td>610.2800</td>\n",
              "    </tr>\n",
              "    <tr>\n",
              "      <th>12749.0</th>\n",
              "      <td>209</td>\n",
              "      <td>199</td>\n",
              "      <td>1471</td>\n",
              "      <td>994.99</td>\n",
              "      <td>4.999950</td>\n",
              "      <td>49.7495</td>\n",
              "    </tr>\n",
              "    <tr>\n",
              "      <th>12820.0</th>\n",
              "      <td>323</td>\n",
              "      <td>59</td>\n",
              "      <td>722</td>\n",
              "      <td>112.38</td>\n",
              "      <td>1.904746</td>\n",
              "      <td>5.6190</td>\n",
              "    </tr>\n",
              "  </tbody>\n",
              "</table>\n",
              "</div>"
            ],
            "text/plain": [
              "            num_days  num_transactions  ...  avg_order_value  profit_margin\n",
              "CustomerID                              ...                                \n",
              "12346.0            0                 1  ...         1.040000         0.0520\n",
              "12747.0          366               103  ...         4.367864        22.4945\n",
              "12748.0          372              4596  ...         2.655701       610.2800\n",
              "12749.0          209               199  ...         4.999950        49.7495\n",
              "12820.0          323                59  ...         1.904746         5.6190\n",
              "\n",
              "[5 rows x 6 columns]"
            ]
          },
          "metadata": {
            "tags": []
          },
          "execution_count": 40
        }
      ]
    },
    {
      "cell_type": "code",
      "metadata": {
        "id": "GBROywNyR3OF"
      },
      "source": [
        "# Customer Value\n",
        "uk_data_group['CLV']=(uk_data_group['avg_order_value']*purchase_frequency)/churn_rate"
      ],
      "execution_count": null,
      "outputs": []
    },
    {
      "cell_type": "code",
      "metadata": {
        "id": "ba2nPHaRR3yF"
      },
      "source": [
        "#Customer Lifetime Value\n",
        "uk_data_group['cust_lifetime_value']=uk_data_group['CLV']*uk_data_group['profit_margin']"
      ],
      "execution_count": null,
      "outputs": []
    },
    {
      "cell_type": "code",
      "metadata": {
        "colab": {
          "base_uri": "https://localhost:8080/",
          "height": 235
        },
        "id": "rWi1SooNR6yZ",
        "outputId": "7dc6614a-9fee-4e51-e1d1-28360e1339c4"
      },
      "source": [
        "uk_data_group.head()"
      ],
      "execution_count": null,
      "outputs": [
        {
          "output_type": "execute_result",
          "data": {
            "text/html": [
              "<div>\n",
              "<style scoped>\n",
              "    .dataframe tbody tr th:only-of-type {\n",
              "        vertical-align: middle;\n",
              "    }\n",
              "\n",
              "    .dataframe tbody tr th {\n",
              "        vertical-align: top;\n",
              "    }\n",
              "\n",
              "    .dataframe thead th {\n",
              "        text-align: right;\n",
              "    }\n",
              "</style>\n",
              "<table border=\"1\" class=\"dataframe\">\n",
              "  <thead>\n",
              "    <tr style=\"text-align: right;\">\n",
              "      <th></th>\n",
              "      <th>num_days</th>\n",
              "      <th>num_transactions</th>\n",
              "      <th>num_units</th>\n",
              "      <th>spent_money</th>\n",
              "      <th>avg_order_value</th>\n",
              "      <th>profit_margin</th>\n",
              "      <th>CLV</th>\n",
              "      <th>cust_lifetime_value</th>\n",
              "    </tr>\n",
              "    <tr>\n",
              "      <th>CustomerID</th>\n",
              "      <th></th>\n",
              "      <th></th>\n",
              "      <th></th>\n",
              "      <th></th>\n",
              "      <th></th>\n",
              "      <th></th>\n",
              "      <th></th>\n",
              "      <th></th>\n",
              "    </tr>\n",
              "  </thead>\n",
              "  <tbody>\n",
              "    <tr>\n",
              "      <th>12346.0</th>\n",
              "      <td>0</td>\n",
              "      <td>1</td>\n",
              "      <td>74215</td>\n",
              "      <td>1.04</td>\n",
              "      <td>1.040000</td>\n",
              "      <td>0.0520</td>\n",
              "      <td>5190.405634</td>\n",
              "      <td>2.699011e+02</td>\n",
              "    </tr>\n",
              "    <tr>\n",
              "      <th>12747.0</th>\n",
              "      <td>366</td>\n",
              "      <td>103</td>\n",
              "      <td>1275</td>\n",
              "      <td>449.89</td>\n",
              "      <td>4.367864</td>\n",
              "      <td>22.4945</td>\n",
              "      <td>21799.025304</td>\n",
              "      <td>4.903582e+05</td>\n",
              "    </tr>\n",
              "    <tr>\n",
              "      <th>12748.0</th>\n",
              "      <td>372</td>\n",
              "      <td>4596</td>\n",
              "      <td>25748</td>\n",
              "      <td>12205.60</td>\n",
              "      <td>2.655701</td>\n",
              "      <td>610.2800</td>\n",
              "      <td>13254.003273</td>\n",
              "      <td>8.088653e+06</td>\n",
              "    </tr>\n",
              "    <tr>\n",
              "      <th>12749.0</th>\n",
              "      <td>209</td>\n",
              "      <td>199</td>\n",
              "      <td>1471</td>\n",
              "      <td>994.99</td>\n",
              "      <td>4.999950</td>\n",
              "      <td>49.7495</td>\n",
              "      <td>24953.622447</td>\n",
              "      <td>1.241430e+06</td>\n",
              "    </tr>\n",
              "    <tr>\n",
              "      <th>12820.0</th>\n",
              "      <td>323</td>\n",
              "      <td>59</td>\n",
              "      <td>722</td>\n",
              "      <td>112.38</td>\n",
              "      <td>1.904746</td>\n",
              "      <td>5.6190</td>\n",
              "      <td>9506.156863</td>\n",
              "      <td>5.341510e+04</td>\n",
              "    </tr>\n",
              "  </tbody>\n",
              "</table>\n",
              "</div>"
            ],
            "text/plain": [
              "            num_days  num_transactions  ...           CLV  cust_lifetime_value\n",
              "CustomerID                              ...                                   \n",
              "12346.0            0                 1  ...   5190.405634         2.699011e+02\n",
              "12747.0          366               103  ...  21799.025304         4.903582e+05\n",
              "12748.0          372              4596  ...  13254.003273         8.088653e+06\n",
              "12749.0          209               199  ...  24953.622447         1.241430e+06\n",
              "12820.0          323                59  ...   9506.156863         5.341510e+04\n",
              "\n",
              "[5 rows x 8 columns]"
            ]
          },
          "metadata": {
            "tags": []
          },
          "execution_count": 43
        }
      ]
    },
    {
      "cell_type": "code",
      "metadata": {
        "colab": {
          "base_uri": "https://localhost:8080/",
          "height": 204
        },
        "id": "Z0cln_cWR8rf",
        "outputId": "e99f2ca1-124e-4148-def1-882b4f3ca27b"
      },
      "source": [
        "#Prediction model\n",
        "uk_data.head()"
      ],
      "execution_count": null,
      "outputs": [
        {
          "output_type": "execute_result",
          "data": {
            "text/html": [
              "<div>\n",
              "<style scoped>\n",
              "    .dataframe tbody tr th:only-of-type {\n",
              "        vertical-align: middle;\n",
              "    }\n",
              "\n",
              "    .dataframe tbody tr th {\n",
              "        vertical-align: top;\n",
              "    }\n",
              "\n",
              "    .dataframe thead th {\n",
              "        text-align: right;\n",
              "    }\n",
              "</style>\n",
              "<table border=\"1\" class=\"dataframe\">\n",
              "  <thead>\n",
              "    <tr style=\"text-align: right;\">\n",
              "      <th></th>\n",
              "      <th>InvoiceNo</th>\n",
              "      <th>StockCode</th>\n",
              "      <th>Description</th>\n",
              "      <th>Quantity</th>\n",
              "      <th>InvoiceDate</th>\n",
              "      <th>UnitPrice</th>\n",
              "      <th>CustomerID</th>\n",
              "      <th>Country</th>\n",
              "    </tr>\n",
              "  </thead>\n",
              "  <tbody>\n",
              "    <tr>\n",
              "      <th>0</th>\n",
              "      <td>536365</td>\n",
              "      <td>85123A</td>\n",
              "      <td>WHITE HANGING HEART T-LIGHT HOLDER</td>\n",
              "      <td>6</td>\n",
              "      <td>2010-12-01 08:26:00</td>\n",
              "      <td>2.55</td>\n",
              "      <td>17850.0</td>\n",
              "      <td>United Kingdom</td>\n",
              "    </tr>\n",
              "    <tr>\n",
              "      <th>1</th>\n",
              "      <td>536365</td>\n",
              "      <td>71053</td>\n",
              "      <td>WHITE METAL LANTERN</td>\n",
              "      <td>6</td>\n",
              "      <td>2010-12-01 08:26:00</td>\n",
              "      <td>3.39</td>\n",
              "      <td>17850.0</td>\n",
              "      <td>United Kingdom</td>\n",
              "    </tr>\n",
              "    <tr>\n",
              "      <th>2</th>\n",
              "      <td>536365</td>\n",
              "      <td>84406B</td>\n",
              "      <td>CREAM CUPID HEARTS COAT HANGER</td>\n",
              "      <td>8</td>\n",
              "      <td>2010-12-01 08:26:00</td>\n",
              "      <td>2.75</td>\n",
              "      <td>17850.0</td>\n",
              "      <td>United Kingdom</td>\n",
              "    </tr>\n",
              "    <tr>\n",
              "      <th>3</th>\n",
              "      <td>536365</td>\n",
              "      <td>84029G</td>\n",
              "      <td>KNITTED UNION FLAG HOT WATER BOTTLE</td>\n",
              "      <td>6</td>\n",
              "      <td>2010-12-01 08:26:00</td>\n",
              "      <td>3.39</td>\n",
              "      <td>17850.0</td>\n",
              "      <td>United Kingdom</td>\n",
              "    </tr>\n",
              "    <tr>\n",
              "      <th>4</th>\n",
              "      <td>536365</td>\n",
              "      <td>84029E</td>\n",
              "      <td>RED WOOLLY HOTTIE WHITE HEART.</td>\n",
              "      <td>6</td>\n",
              "      <td>2010-12-01 08:26:00</td>\n",
              "      <td>3.39</td>\n",
              "      <td>17850.0</td>\n",
              "      <td>United Kingdom</td>\n",
              "    </tr>\n",
              "  </tbody>\n",
              "</table>\n",
              "</div>"
            ],
            "text/plain": [
              "  InvoiceNo StockCode  ... CustomerID         Country\n",
              "0    536365    85123A  ...    17850.0  United Kingdom\n",
              "1    536365     71053  ...    17850.0  United Kingdom\n",
              "2    536365    84406B  ...    17850.0  United Kingdom\n",
              "3    536365    84029G  ...    17850.0  United Kingdom\n",
              "4    536365    84029E  ...    17850.0  United Kingdom\n",
              "\n",
              "[5 rows x 8 columns]"
            ]
          },
          "metadata": {
            "tags": []
          },
          "execution_count": 44
        }
      ]
    },
    {
      "cell_type": "code",
      "metadata": {
        "id": "iH5s1JRCR_RC"
      },
      "source": [
        "#Extract month and year from InvoiceDate.\n",
        "uk_data['month_yr'] = uk_data['InvoiceDate'].apply(lambda x: x.strftime('%b-%Y'))"
      ],
      "execution_count": null,
      "outputs": []
    },
    {
      "cell_type": "code",
      "metadata": {
        "colab": {
          "base_uri": "https://localhost:8080/",
          "height": 204
        },
        "id": "HUBZOErgSFPH",
        "outputId": "5b744487-9ec8-4be9-e704-40e21583e233"
      },
      "source": [
        "uk_data.head()"
      ],
      "execution_count": null,
      "outputs": [
        {
          "output_type": "execute_result",
          "data": {
            "text/html": [
              "<div>\n",
              "<style scoped>\n",
              "    .dataframe tbody tr th:only-of-type {\n",
              "        vertical-align: middle;\n",
              "    }\n",
              "\n",
              "    .dataframe tbody tr th {\n",
              "        vertical-align: top;\n",
              "    }\n",
              "\n",
              "    .dataframe thead th {\n",
              "        text-align: right;\n",
              "    }\n",
              "</style>\n",
              "<table border=\"1\" class=\"dataframe\">\n",
              "  <thead>\n",
              "    <tr style=\"text-align: right;\">\n",
              "      <th></th>\n",
              "      <th>InvoiceNo</th>\n",
              "      <th>StockCode</th>\n",
              "      <th>Description</th>\n",
              "      <th>Quantity</th>\n",
              "      <th>InvoiceDate</th>\n",
              "      <th>UnitPrice</th>\n",
              "      <th>CustomerID</th>\n",
              "      <th>Country</th>\n",
              "      <th>month_yr</th>\n",
              "    </tr>\n",
              "  </thead>\n",
              "  <tbody>\n",
              "    <tr>\n",
              "      <th>0</th>\n",
              "      <td>536365</td>\n",
              "      <td>85123A</td>\n",
              "      <td>WHITE HANGING HEART T-LIGHT HOLDER</td>\n",
              "      <td>6</td>\n",
              "      <td>2010-12-01 08:26:00</td>\n",
              "      <td>2.55</td>\n",
              "      <td>17850.0</td>\n",
              "      <td>United Kingdom</td>\n",
              "      <td>Dec-2010</td>\n",
              "    </tr>\n",
              "    <tr>\n",
              "      <th>1</th>\n",
              "      <td>536365</td>\n",
              "      <td>71053</td>\n",
              "      <td>WHITE METAL LANTERN</td>\n",
              "      <td>6</td>\n",
              "      <td>2010-12-01 08:26:00</td>\n",
              "      <td>3.39</td>\n",
              "      <td>17850.0</td>\n",
              "      <td>United Kingdom</td>\n",
              "      <td>Dec-2010</td>\n",
              "    </tr>\n",
              "    <tr>\n",
              "      <th>2</th>\n",
              "      <td>536365</td>\n",
              "      <td>84406B</td>\n",
              "      <td>CREAM CUPID HEARTS COAT HANGER</td>\n",
              "      <td>8</td>\n",
              "      <td>2010-12-01 08:26:00</td>\n",
              "      <td>2.75</td>\n",
              "      <td>17850.0</td>\n",
              "      <td>United Kingdom</td>\n",
              "      <td>Dec-2010</td>\n",
              "    </tr>\n",
              "    <tr>\n",
              "      <th>3</th>\n",
              "      <td>536365</td>\n",
              "      <td>84029G</td>\n",
              "      <td>KNITTED UNION FLAG HOT WATER BOTTLE</td>\n",
              "      <td>6</td>\n",
              "      <td>2010-12-01 08:26:00</td>\n",
              "      <td>3.39</td>\n",
              "      <td>17850.0</td>\n",
              "      <td>United Kingdom</td>\n",
              "      <td>Dec-2010</td>\n",
              "    </tr>\n",
              "    <tr>\n",
              "      <th>4</th>\n",
              "      <td>536365</td>\n",
              "      <td>84029E</td>\n",
              "      <td>RED WOOLLY HOTTIE WHITE HEART.</td>\n",
              "      <td>6</td>\n",
              "      <td>2010-12-01 08:26:00</td>\n",
              "      <td>3.39</td>\n",
              "      <td>17850.0</td>\n",
              "      <td>United Kingdom</td>\n",
              "      <td>Dec-2010</td>\n",
              "    </tr>\n",
              "  </tbody>\n",
              "</table>\n",
              "</div>"
            ],
            "text/plain": [
              "  InvoiceNo StockCode  ...         Country  month_yr\n",
              "0    536365    85123A  ...  United Kingdom  Dec-2010\n",
              "1    536365     71053  ...  United Kingdom  Dec-2010\n",
              "2    536365    84406B  ...  United Kingdom  Dec-2010\n",
              "3    536365    84029G  ...  United Kingdom  Dec-2010\n",
              "4    536365    84029E  ...  United Kingdom  Dec-2010\n",
              "\n",
              "[5 rows x 9 columns]"
            ]
          },
          "metadata": {
            "tags": []
          },
          "execution_count": 46
        }
      ]
    },
    {
      "cell_type": "code",
      "metadata": {
        "id": "RUH_QV4dSHiW"
      },
      "source": [
        "\n",
        "sale=uk_data.pivot_table(index=['CustomerID'],columns=['month_yr'],values='UnitPrice',aggfunc='sum',fill_value=0).reset_index()"
      ],
      "execution_count": null,
      "outputs": []
    },
    {
      "cell_type": "code",
      "metadata": {
        "colab": {
          "base_uri": "https://localhost:8080/",
          "height": 204
        },
        "id": "_X2pn8swSP-b",
        "outputId": "f6525d4d-f587-48a0-aa29-8ba5c7d1103e"
      },
      "source": [
        "sale.head()"
      ],
      "execution_count": null,
      "outputs": [
        {
          "output_type": "execute_result",
          "data": {
            "text/html": [
              "<div>\n",
              "<style scoped>\n",
              "    .dataframe tbody tr th:only-of-type {\n",
              "        vertical-align: middle;\n",
              "    }\n",
              "\n",
              "    .dataframe tbody tr th {\n",
              "        vertical-align: top;\n",
              "    }\n",
              "\n",
              "    .dataframe thead th {\n",
              "        text-align: right;\n",
              "    }\n",
              "</style>\n",
              "<table border=\"1\" class=\"dataframe\">\n",
              "  <thead>\n",
              "    <tr style=\"text-align: right;\">\n",
              "      <th>month_yr</th>\n",
              "      <th>CustomerID</th>\n",
              "      <th>Apr-2011</th>\n",
              "      <th>Aug-2011</th>\n",
              "      <th>Dec-2010</th>\n",
              "      <th>Dec-2011</th>\n",
              "      <th>Feb-2011</th>\n",
              "      <th>Jan-2011</th>\n",
              "      <th>Jul-2011</th>\n",
              "      <th>Jun-2011</th>\n",
              "      <th>Mar-2011</th>\n",
              "      <th>May-2011</th>\n",
              "      <th>Nov-2011</th>\n",
              "      <th>Oct-2011</th>\n",
              "      <th>Sep-2011</th>\n",
              "    </tr>\n",
              "  </thead>\n",
              "  <tbody>\n",
              "    <tr>\n",
              "      <th>0</th>\n",
              "      <td>12346.0</td>\n",
              "      <td>0.00</td>\n",
              "      <td>0.00</td>\n",
              "      <td>0.00</td>\n",
              "      <td>0.00</td>\n",
              "      <td>0.00</td>\n",
              "      <td>1.04</td>\n",
              "      <td>0.00</td>\n",
              "      <td>0.00</td>\n",
              "      <td>0.00</td>\n",
              "      <td>0.00</td>\n",
              "      <td>0.00</td>\n",
              "      <td>0.00</td>\n",
              "      <td>0.00</td>\n",
              "    </tr>\n",
              "    <tr>\n",
              "      <th>1</th>\n",
              "      <td>12747.0</td>\n",
              "      <td>0.00</td>\n",
              "      <td>37.95</td>\n",
              "      <td>54.97</td>\n",
              "      <td>21.01</td>\n",
              "      <td>0.00</td>\n",
              "      <td>13.59</td>\n",
              "      <td>0.00</td>\n",
              "      <td>47.13</td>\n",
              "      <td>37.28</td>\n",
              "      <td>132.66</td>\n",
              "      <td>50.19</td>\n",
              "      <td>55.11</td>\n",
              "      <td>0.00</td>\n",
              "    </tr>\n",
              "    <tr>\n",
              "      <th>2</th>\n",
              "      <td>12748.0</td>\n",
              "      <td>730.96</td>\n",
              "      <td>398.91</td>\n",
              "      <td>1601.70</td>\n",
              "      <td>678.14</td>\n",
              "      <td>281.52</td>\n",
              "      <td>98.42</td>\n",
              "      <td>517.81</td>\n",
              "      <td>632.97</td>\n",
              "      <td>435.17</td>\n",
              "      <td>860.24</td>\n",
              "      <td>4540.43</td>\n",
              "      <td>539.94</td>\n",
              "      <td>889.39</td>\n",
              "    </tr>\n",
              "    <tr>\n",
              "      <th>3</th>\n",
              "      <td>12749.0</td>\n",
              "      <td>0.00</td>\n",
              "      <td>403.62</td>\n",
              "      <td>0.00</td>\n",
              "      <td>189.84</td>\n",
              "      <td>0.00</td>\n",
              "      <td>0.00</td>\n",
              "      <td>0.00</td>\n",
              "      <td>0.00</td>\n",
              "      <td>0.00</td>\n",
              "      <td>204.45</td>\n",
              "      <td>197.08</td>\n",
              "      <td>0.00</td>\n",
              "      <td>0.00</td>\n",
              "    </tr>\n",
              "    <tr>\n",
              "      <th>4</th>\n",
              "      <td>12820.0</td>\n",
              "      <td>0.00</td>\n",
              "      <td>0.00</td>\n",
              "      <td>0.00</td>\n",
              "      <td>27.65</td>\n",
              "      <td>0.00</td>\n",
              "      <td>17.89</td>\n",
              "      <td>0.00</td>\n",
              "      <td>0.00</td>\n",
              "      <td>0.00</td>\n",
              "      <td>0.00</td>\n",
              "      <td>0.00</td>\n",
              "      <td>42.13</td>\n",
              "      <td>24.71</td>\n",
              "    </tr>\n",
              "  </tbody>\n",
              "</table>\n",
              "</div>"
            ],
            "text/plain": [
              "month_yr  CustomerID  Apr-2011  Aug-2011  ...  Nov-2011  Oct-2011  Sep-2011\n",
              "0            12346.0      0.00      0.00  ...      0.00      0.00      0.00\n",
              "1            12747.0      0.00     37.95  ...     50.19     55.11      0.00\n",
              "2            12748.0    730.96    398.91  ...   4540.43    539.94    889.39\n",
              "3            12749.0      0.00    403.62  ...    197.08      0.00      0.00\n",
              "4            12820.0      0.00      0.00  ...      0.00     42.13     24.71\n",
              "\n",
              "[5 rows x 14 columns]"
            ]
          },
          "metadata": {
            "tags": []
          },
          "execution_count": 50
        }
      ]
    },
    {
      "cell_type": "code",
      "metadata": {
        "id": "C8XSDBJWST4h"
      },
      "source": [
        "#Summing all the month sales\n",
        "sale['CLV']=sale.iloc[:,2:].sum(axis=1)"
      ],
      "execution_count": null,
      "outputs": []
    },
    {
      "cell_type": "code",
      "metadata": {
        "colab": {
          "base_uri": "https://localhost:8080/",
          "height": 204
        },
        "id": "3xFIWtYnSYMx",
        "outputId": "1a8e4aa4-c552-4ab3-d927-aa082f38c089"
      },
      "source": [
        "sale.head()"
      ],
      "execution_count": null,
      "outputs": [
        {
          "output_type": "execute_result",
          "data": {
            "text/html": [
              "<div>\n",
              "<style scoped>\n",
              "    .dataframe tbody tr th:only-of-type {\n",
              "        vertical-align: middle;\n",
              "    }\n",
              "\n",
              "    .dataframe tbody tr th {\n",
              "        vertical-align: top;\n",
              "    }\n",
              "\n",
              "    .dataframe thead th {\n",
              "        text-align: right;\n",
              "    }\n",
              "</style>\n",
              "<table border=\"1\" class=\"dataframe\">\n",
              "  <thead>\n",
              "    <tr style=\"text-align: right;\">\n",
              "      <th>month_yr</th>\n",
              "      <th>CustomerID</th>\n",
              "      <th>Apr-2011</th>\n",
              "      <th>Aug-2011</th>\n",
              "      <th>Dec-2010</th>\n",
              "      <th>Dec-2011</th>\n",
              "      <th>Feb-2011</th>\n",
              "      <th>Jan-2011</th>\n",
              "      <th>Jul-2011</th>\n",
              "      <th>Jun-2011</th>\n",
              "      <th>Mar-2011</th>\n",
              "      <th>May-2011</th>\n",
              "      <th>Nov-2011</th>\n",
              "      <th>Oct-2011</th>\n",
              "      <th>Sep-2011</th>\n",
              "      <th>CLV</th>\n",
              "    </tr>\n",
              "  </thead>\n",
              "  <tbody>\n",
              "    <tr>\n",
              "      <th>0</th>\n",
              "      <td>12346.0</td>\n",
              "      <td>0.00</td>\n",
              "      <td>0.00</td>\n",
              "      <td>0.00</td>\n",
              "      <td>0.00</td>\n",
              "      <td>0.00</td>\n",
              "      <td>1.04</td>\n",
              "      <td>0.00</td>\n",
              "      <td>0.00</td>\n",
              "      <td>0.00</td>\n",
              "      <td>0.00</td>\n",
              "      <td>0.00</td>\n",
              "      <td>0.00</td>\n",
              "      <td>0.00</td>\n",
              "      <td>1.04</td>\n",
              "    </tr>\n",
              "    <tr>\n",
              "      <th>1</th>\n",
              "      <td>12747.0</td>\n",
              "      <td>0.00</td>\n",
              "      <td>37.95</td>\n",
              "      <td>54.97</td>\n",
              "      <td>21.01</td>\n",
              "      <td>0.00</td>\n",
              "      <td>13.59</td>\n",
              "      <td>0.00</td>\n",
              "      <td>47.13</td>\n",
              "      <td>37.28</td>\n",
              "      <td>132.66</td>\n",
              "      <td>50.19</td>\n",
              "      <td>55.11</td>\n",
              "      <td>0.00</td>\n",
              "      <td>449.89</td>\n",
              "    </tr>\n",
              "    <tr>\n",
              "      <th>2</th>\n",
              "      <td>12748.0</td>\n",
              "      <td>730.96</td>\n",
              "      <td>398.91</td>\n",
              "      <td>1601.70</td>\n",
              "      <td>678.14</td>\n",
              "      <td>281.52</td>\n",
              "      <td>98.42</td>\n",
              "      <td>517.81</td>\n",
              "      <td>632.97</td>\n",
              "      <td>435.17</td>\n",
              "      <td>860.24</td>\n",
              "      <td>4540.43</td>\n",
              "      <td>539.94</td>\n",
              "      <td>889.39</td>\n",
              "      <td>11474.64</td>\n",
              "    </tr>\n",
              "    <tr>\n",
              "      <th>3</th>\n",
              "      <td>12749.0</td>\n",
              "      <td>0.00</td>\n",
              "      <td>403.62</td>\n",
              "      <td>0.00</td>\n",
              "      <td>189.84</td>\n",
              "      <td>0.00</td>\n",
              "      <td>0.00</td>\n",
              "      <td>0.00</td>\n",
              "      <td>0.00</td>\n",
              "      <td>0.00</td>\n",
              "      <td>204.45</td>\n",
              "      <td>197.08</td>\n",
              "      <td>0.00</td>\n",
              "      <td>0.00</td>\n",
              "      <td>994.99</td>\n",
              "    </tr>\n",
              "    <tr>\n",
              "      <th>4</th>\n",
              "      <td>12820.0</td>\n",
              "      <td>0.00</td>\n",
              "      <td>0.00</td>\n",
              "      <td>0.00</td>\n",
              "      <td>27.65</td>\n",
              "      <td>0.00</td>\n",
              "      <td>17.89</td>\n",
              "      <td>0.00</td>\n",
              "      <td>0.00</td>\n",
              "      <td>0.00</td>\n",
              "      <td>0.00</td>\n",
              "      <td>0.00</td>\n",
              "      <td>42.13</td>\n",
              "      <td>24.71</td>\n",
              "      <td>112.38</td>\n",
              "    </tr>\n",
              "  </tbody>\n",
              "</table>\n",
              "</div>"
            ],
            "text/plain": [
              "month_yr  CustomerID  Apr-2011  Aug-2011  ...  Oct-2011  Sep-2011       CLV\n",
              "0            12346.0      0.00      0.00  ...      0.00      0.00      1.04\n",
              "1            12747.0      0.00     37.95  ...     55.11      0.00    449.89\n",
              "2            12748.0    730.96    398.91  ...    539.94    889.39  11474.64\n",
              "3            12749.0      0.00    403.62  ...      0.00      0.00    994.99\n",
              "4            12820.0      0.00      0.00  ...     42.13     24.71    112.38\n",
              "\n",
              "[5 rows x 15 columns]"
            ]
          },
          "metadata": {
            "tags": []
          },
          "execution_count": 52
        }
      ]
    },
    {
      "cell_type": "code",
      "metadata": {
        "id": "IUSSh4BzSZ2q"
      },
      "source": [
        "#Selecting features\n",
        "X=sale[['Dec-2011','Nov-2011', 'Oct-2011','Sep-2011','Aug-2011','Jul-2011']]\n",
        "y=sale[['CLV']]"
      ],
      "execution_count": null,
      "outputs": []
    },
    {
      "cell_type": "code",
      "metadata": {
        "id": "MiBokDCHSfAw"
      },
      "source": [
        "#split training set and test set\n",
        "from sklearn.model_selection import train_test_split\n",
        "X_train, X_test, y_train, y_test = train_test_split(X, y,random_state=0)"
      ],
      "execution_count": null,
      "outputs": []
    },
    {
      "cell_type": "code",
      "metadata": {
        "id": "IrukJJ8jShNG"
      },
      "source": [
        "#Model development\n",
        "# import model\n",
        "from sklearn.linear_model import LinearRegression\n",
        "\n",
        "# instantiate\n",
        "linreg = LinearRegression()\n",
        "\n",
        "# fit the model to the training data (learn the coefficients)\n",
        "linreg.fit(X_train, y_train)\n",
        "\n",
        "# make predictions on the testing set\n",
        "y_pred = linreg.predict(X_test)"
      ],
      "execution_count": null,
      "outputs": []
    },
    {
      "cell_type": "code",
      "metadata": {
        "colab": {
          "base_uri": "https://localhost:8080/"
        },
        "id": "O2X1oF-cSlDx",
        "outputId": "1557d72d-c46f-45ce-f892-8e0beda990dd"
      },
      "source": [
        "# print the intercept and coefficients\n",
        "print(linreg.intercept_)\n",
        "print(linreg.coef_)"
      ],
      "execution_count": null,
      "outputs": [
        {
          "output_type": "stream",
          "text": [
            "[53.76936952]\n",
            "[[0.71144409 1.27317992 0.73306334 1.24928657 1.58904694 3.13345521]]\n"
          ],
          "name": "stdout"
        }
      ]
    },
    {
      "cell_type": "code",
      "metadata": {
        "colab": {
          "base_uri": "https://localhost:8080/"
        },
        "id": "Jxs2hNgJSmmI",
        "outputId": "3b906e61-f381-4598-ced6-4bebf6d58b6c"
      },
      "source": [
        "#Model fit\n",
        "from sklearn import metrics\n",
        "\n",
        "# compute the R Square for model\n",
        "print(\"R-Square:\",metrics.r2_score(y_test, y_pred))\n"
      ],
      "execution_count": null,
      "outputs": [
        {
          "output_type": "stream",
          "text": [
            "R-Square: 0.816140150751684\n"
          ],
          "name": "stdout"
        }
      ]
    },
    {
      "cell_type": "code",
      "metadata": {
        "colab": {
          "base_uri": "https://localhost:8080/"
        },
        "id": "XZec08_9SpYG",
        "outputId": "6fb600b6-60cd-4d40-c722-3f732c153c65"
      },
      "source": [
        "#Model evaluation\n",
        "# calculate MAE using scikit-learn\n",
        "print(\"MAE:\",metrics.mean_absolute_error(y_test,y_pred))\n",
        "\n",
        "#calculate mean squared error\n",
        "print(\"MSE\",metrics.mean_squared_error(y_test, y_pred))\n",
        "# compute the RMSE of our predictions\n",
        "print(\"RMSE:\",np.sqrt(metrics.mean_squared_error(y_test, y_pred)))"
      ],
      "execution_count": null,
      "outputs": [
        {
          "output_type": "stream",
          "text": [
            "MAE: 102.72858064931792\n",
            "MSE 34943.82161995939\n",
            "RMSE: 186.93266600559514\n"
          ],
          "name": "stdout"
        }
      ]
    },
    {
      "cell_type": "code",
      "metadata": {
        "colab": {
          "base_uri": "https://localhost:8080/"
        },
        "id": "eK95Mk3MSvhv",
        "outputId": "2cc49dcf-c56e-4d67-b1c5-031b79d36753"
      },
      "source": [
        "linreg.score(X_train,y_train)"
      ],
      "execution_count": null,
      "outputs": [
        {
          "output_type": "execute_result",
          "data": {
            "text/plain": [
              "0.9240075620153428"
            ]
          },
          "metadata": {
            "tags": []
          },
          "execution_count": 61
        }
      ]
    },
    {
      "cell_type": "markdown",
      "metadata": {
        "id": "1YJFaEDJYuhl"
      },
      "source": [
        "## Univari"
      ]
    },
    {
      "cell_type": "code",
      "metadata": {
        "id": "KRpqWw4DZPjH"
      },
      "source": [
        "#Selecting features\n",
        "X_uni=sale[['Dec-2011']]\n",
        "y_uni=sale[['CLV']]"
      ],
      "execution_count": null,
      "outputs": []
    },
    {
      "cell_type": "code",
      "metadata": {
        "id": "cUi0i5vSZkF-"
      },
      "source": [
        "#split training set and test set\n",
        "from sklearn.model_selection import train_test_split\n",
        "X_train, X_test, y_train, y_test = train_test_split(X_uni, y_uni,random_state=0)"
      ],
      "execution_count": null,
      "outputs": []
    },
    {
      "cell_type": "code",
      "metadata": {
        "id": "slncyjCoZYjA"
      },
      "source": [
        "#Model development\n",
        "# import model\n",
        "from sklearn.linear_model import LinearRegression\n",
        "\n",
        "# instantiate\n",
        "linreg_uni = LinearRegression()\n",
        "\n",
        "# fit the model to the training data (learn the coefficients)\n",
        "linreg_uni.fit(X_uni, y_uni)\n",
        "\n",
        "# make predictions on the testing set\n",
        "y_pred = linreg_uni.predict(X_test)"
      ],
      "execution_count": null,
      "outputs": []
    },
    {
      "cell_type": "code",
      "metadata": {
        "id": "ptPK8hofZs_Q"
      },
      "source": [
        "# print the intercept and coefficients\n",
        "print(linreg_uni.intercept_)\n",
        "print(linreg_uni.coef_)"
      ],
      "execution_count": null,
      "outputs": []
    },
    {
      "cell_type": "code",
      "metadata": {
        "id": "preIEzlnZ5dg"
      },
      "source": [
        "#Model fit\n",
        "from sklearn import metrics\n",
        "\n",
        "# compute the R Square for model\n",
        "print(\"R-Square:\",metrics.r2_score(y_test, y_pred))\n"
      ],
      "execution_count": null,
      "outputs": []
    },
    {
      "cell_type": "code",
      "metadata": {
        "id": "_Q1YSJd3Z7Yt"
      },
      "source": [
        "#Model evaluation\n",
        "# calculate MAE using scikit-learn\n",
        "print(\"MAE:\",metrics.mean_absolute_error(y_test,y_pred))\n",
        "\n",
        "#calculate mean squared error\n",
        "print(\"MSE\",metrics.mean_squared_error(y_test, y_pred))\n",
        "# compute the RMSE of our predictions\n",
        "print(\"RMSE:\",np.sqrt(metrics.mean_squared_error(y_test, y_pred)))"
      ],
      "execution_count": null,
      "outputs": []
    },
    {
      "cell_type": "code",
      "metadata": {
        "id": "joV9JeXFZ8yR"
      },
      "source": [
        "linreg_uni.score(X_train,y_train)"
      ],
      "execution_count": null,
      "outputs": []
    },
    {
      "cell_type": "markdown",
      "metadata": {
        "id": "wtdDDtwoaKFZ"
      },
      "source": [
        "Single Variable"
      ]
    },
    {
      "cell_type": "code",
      "metadata": {
        "id": "QKBSyFMnaHsz"
      },
      "source": [
        "#Selecting features\n",
        "X_uni=sale[['Dec-2011']]\n",
        "y_uni=sale[['CLV']]"
      ],
      "execution_count": 63,
      "outputs": []
    },
    {
      "cell_type": "code",
      "metadata": {
        "id": "pjVd909CaQ9s"
      },
      "source": [
        "#split training set and test set\n",
        "from sklearn.model_selection import train_test_split\n",
        "X_train, X_test, y_train, y_test = train_test_split(X_uni, y_uni,random_state=0)"
      ],
      "execution_count": 64,
      "outputs": []
    },
    {
      "cell_type": "code",
      "metadata": {
        "id": "ji6xp9raaab2"
      },
      "source": [
        "#Model development\n",
        "# import model\n",
        "from sklearn.linear_model import LinearRegression\n",
        "\n",
        "# instantiate\n",
        "linreg_uni = LinearRegression()\n",
        "\n",
        "# fit the model to the training data (learn the coefficients)\n",
        "linreg_uni.fit(X_uni, y_uni)\n",
        "\n",
        "# make predictions on the testing set\n",
        "y_pred = linreg_uni.predict(X_test)"
      ],
      "execution_count": 65,
      "outputs": []
    },
    {
      "cell_type": "code",
      "metadata": {
        "colab": {
          "base_uri": "https://localhost:8080/"
        },
        "id": "Ts1aKWL0anv9",
        "outputId": "319caa4b-4d16-41e2-a829-1348f540e17e"
      },
      "source": [
        "# print the intercept and coefficients\n",
        "print(linreg_uni.intercept_)\n",
        "print(linreg_uni.coef_)"
      ],
      "execution_count": 66,
      "outputs": [
        {
          "output_type": "stream",
          "text": [
            "[162.07426889]\n",
            "[[8.3520151]]\n"
          ],
          "name": "stdout"
        }
      ]
    },
    {
      "cell_type": "code",
      "metadata": {
        "colab": {
          "base_uri": "https://localhost:8080/"
        },
        "id": "M83MRq85aqa_",
        "outputId": "d61422f0-72ea-4646-ac40-2334f10da656"
      },
      "source": [
        "#Model fit\n",
        "from sklearn import metrics\n",
        "\n",
        "# compute the R Square for model\n",
        "print(\"R-Square:\",metrics.r2_score(y_test, y_pred))\n"
      ],
      "execution_count": 67,
      "outputs": [
        {
          "output_type": "stream",
          "text": [
            "R-Square: 0.1808574399537306\n"
          ],
          "name": "stdout"
        }
      ]
    },
    {
      "cell_type": "code",
      "metadata": {
        "colab": {
          "base_uri": "https://localhost:8080/"
        },
        "id": "MRG-uWejbSDw",
        "outputId": "ced8aa8d-c6c2-4d76-f744-3a2f12b2d83e"
      },
      "source": [
        "\n",
        "linreg_uni.score(X_train,y_train)"
      ],
      "execution_count": 69,
      "outputs": [
        {
          "output_type": "execute_result",
          "data": {
            "text/plain": [
              "0.7297852365369766"
            ]
          },
          "metadata": {
            "tags": []
          },
          "execution_count": 69
        }
      ]
    }
  ]
}